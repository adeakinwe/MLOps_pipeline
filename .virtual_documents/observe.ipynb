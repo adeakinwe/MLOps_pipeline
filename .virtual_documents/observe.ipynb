from mlflow.tracking import MlflowClient

MLFLOW_TRACKING_URI = 'sqlite:///mlflow.db'

client = MlflowClient(tracking_uri=MLFLOW_TRACKING_URI)


experiments = client.search_experiments()

for exp in experiments:
    print(f"Name: {exp.name}, ID: {exp.experiment_id}, Artifact Location: {exp.artifact_location}")


from mlflow.entities import ViewType

runs = client.search_runs(
    experiment_ids = '1',
    filter_string = 'metrics.rmse < 6.5',
    run_view_type = ViewType.ACTIVE_ONLY,
    max_results = 5,
    order_by = ['metrics.rmse ASC']
)


for run in runs:
    print(f'runId: {run.info.run_id}, rmse: {run.data.metrics['rmse']: .4f}')


import mlflow

mlflow.set_tracking_uri(MLFLOW_TRACKING_URI)


run_id = '13f9d0642ece4a31a9a8abf72591db02'
model_uri = f'runs:/{run_id}/models_xgboost_mlflow'
mlflow.register_model(model_uri=model_uri,name='nyc_taxi_duration_prediction_xgboost_model')


model_name = 'nyc_taxi_duration_prediction_xgboost_model'
latest_versions = client.get_latest_versions(name=model_name)
    
for version in latest_versions:
    print(f'version: {version.version}, stage: {version.current_stage}')


model_version = 4
new_stage = 'Production'


client.transition_model_version_stage(
    name=model_name,
    version=model_version,
    stage=new_stage,
    archive_existing_versions=False
)


from datetime import datetime as dt


client.update_model_version(
    name=model_name,
    version=model_version,
    description=f'model version {model_version} was transitioned to {new_stage} on {dt.today().now() }'
)


from math import sqrt


from sklearn.metrics import mean_squared_error
import pandas as pd


def read_dataframe(filename):
    df = pd.read_parquet(filename)

    df.lpep_dropoff_datetime = pd.to_datetime(df.lpep_dropoff_datetime)
    df.lpep_pickup_datetime = pd.to_datetime(df.lpep_pickup_datetime)

    df['duration'] = df.lpep_dropoff_datetime - df.lpep_pickup_datetime
    df.duration = df.duration.apply(lambda td: td.total_seconds() / 60)

    df = df[(df.duration >= 1) & (df.duration <= 60)]

    categorical = ['PULocationID', 'DOLocationID']
    df[categorical] = df[categorical].astype(str)
    
    return df


def preprocess(df, dv):
    df['PU_DO'] = df['PULocationID'] + '_' + df['DOLocationID']
    categorical = ['PU_DO']
    numerical = ['trip_distance']
    train_dicts = df[categorical + numerical].to_dict(orient='records')
    return dv.transform(train_dicts)


def test_model(name, stage, X_test, y_test):
    model = mlflow.pyfunc.load_model(f"models:/{name}/{stage}")
    y_pred = model.predict(X_test)
    return {"rmse": sqrt(mean_squared_error(y_test, y_pred))}


df = read_dataframe('module02/green_tripdata_2023-03.parquet')


client.download_artifacts(run_id=run_id, path='preprocessor', dst_path='.')


import pickle

with open('preprocessor/models.preprocessor.b', 'rb') as f_in:
    dv = pickle.load(f_in)


X_test = preprocess(df, dv)


y_test = df['duration'].values


get_ipython().run_line_magic("time", " test_model(name=model_name, stage=new_stage, X_test=X_test, y_test=y_test)")


pip list



