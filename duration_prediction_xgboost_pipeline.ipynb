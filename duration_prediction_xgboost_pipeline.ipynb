{
 "cells": [
  {
   "cell_type": "code",
   "execution_count": 30,
   "id": "9a4e4703-ebdf-4b4b-b19b-a7f9a33d1dd9",
   "metadata": {},
   "outputs": [],
   "source": [
    "import pandas as pd\n",
    "from sklearn.feature_extraction import DictVectorizer\n",
    "from sklearn.metrics import mean_squared_error\n",
    "import pickle"
   ]
  },
  {
   "cell_type": "code",
   "execution_count": 31,
   "id": "1bbb660f",
   "metadata": {},
   "outputs": [
    {
     "data": {
      "text/plain": [
       "<Experiment: artifact_location='s3://mlflow-ride-duration21-prediction-artifact-store/1', creation_time=1753508117055, experiment_id='1', last_update_time=1753508117055, lifecycle_stage='active', name='nyc_greentaxi_2021_tripdata_experiment', tags={}>"
      ]
     },
     "execution_count": 31,
     "metadata": {},
     "output_type": "execute_result"
    }
   ],
   "source": [
    "import mlflow\n",
    "\n",
    "#mlflow.set_tracking_uri('sqlite:///mlflow.db')\n",
    "mlflow.set_tracking_uri(\"http://127.0.0.1:5003\") \n",
    "mlflow.set_experiment('nyc_greentaxi_2021_tripdata_experiment') "
   ]
  },
  {
   "cell_type": "code",
   "execution_count": 32,
   "id": "ed6d9a57-7dbf-4d93-84dc-9282edb6b4ef",
   "metadata": {},
   "outputs": [],
   "source": [
    "def read_dataframe(filename):\n",
    "    df = pd.read_parquet(filename)\n",
    "    \n",
    "    df['duration'] = (df.lpep_dropoff_datetime - df.lpep_pickup_datetime)\n",
    "    df['duration'] = df['duration'].apply(lambda td: td.total_seconds()/60)\n",
    "    df = df[((df['duration'] > 1) & (df['duration'] <= 60))]\n",
    "    \n",
    "    categorical = ['PULocationID','DOLocationID']\n",
    "    df[categorical] = df[categorical].astype(str)\n",
    "\n",
    "    df['PU_DO'] = df['PULocationID'] + '_' + df['DOLocationID']\n",
    "\n",
    "    return df"
   ]
  },
  {
   "cell_type": "code",
   "execution_count": 33,
   "id": "f45c362f-4f06-4b16-9caa-ead343474e1a",
   "metadata": {},
   "outputs": [],
   "source": [
    "df_train = read_dataframe('green_tripdata/green_tripdata_2021-01.parquet')\n",
    "df_val = read_dataframe('green_tripdata/green_tripdata_2021-02.parquet')"
   ]
  },
  {
   "cell_type": "code",
   "execution_count": 34,
   "id": "5cf2a366-f8b0-49be-a0cb-e09c100ed9e9",
   "metadata": {},
   "outputs": [],
   "source": [
    "categorical = ['PU_DO']\n",
    "numerical = ['trip_distance']\n",
    "\n",
    "dv = DictVectorizer()\n",
    "\n",
    "train_dicts = df_train[categorical + numerical].to_dict(orient='records')\n",
    "val_dicts = df_val[categorical + numerical].to_dict(orient='records')\n",
    "\n",
    "X_train = dv.fit_transform(train_dicts)\n",
    "X_val = dv.transform(val_dicts)\n",
    "\n",
    "y_train = df_train['duration'].values\n",
    "y_val = df_val['duration'].values"
   ]
  },
  {
   "cell_type": "code",
   "execution_count": 35,
   "id": "57dcb4d7",
   "metadata": {},
   "outputs": [],
   "source": [
    "from math import sqrt"
   ]
  },
  {
   "cell_type": "code",
   "execution_count": 36,
   "id": "cdcbd644",
   "metadata": {},
   "outputs": [],
   "source": [
    "import xgboost as xgb"
   ]
  },
  {
   "cell_type": "code",
   "execution_count": 37,
   "id": "d1d114e0",
   "metadata": {},
   "outputs": [],
   "source": [
    "import mlflow.xgboost\n",
    "from mlflow.models.signature import infer_signature\n",
    "mlflow.xgboost.autolog(disable=True)"
   ]
  },
  {
   "cell_type": "code",
   "execution_count": 38,
   "id": "98e78c05",
   "metadata": {},
   "outputs": [
    {
     "name": "stderr",
     "output_type": "stream",
     "text": [
      "/Users/mac/Projects/MLops_pipeline/mlflow-311venv/lib/python3.11/site-packages/xgboost/callback.py:386: UserWarning: [06:38:12] WARNING: /Users/runner/work/xgboost/xgboost/src/objective/regression_obj.cu:250: reg:linear is now deprecated in favor of reg:squarederror.\n",
      "  self.starting_round = model.num_boosted_rounds()\n"
     ]
    },
    {
     "name": "stdout",
     "output_type": "stream",
     "text": [
      "[0]\tvalidation-rmse:11.44184\n",
      "[1]\tvalidation-rmse:10.76905\n",
      "[2]\tvalidation-rmse:10.18099\n",
      "[3]\tvalidation-rmse:9.67144\n",
      "[4]\tvalidation-rmse:9.22906\n",
      "[5]\tvalidation-rmse:8.84628\n",
      "[6]\tvalidation-rmse:8.51703\n",
      "[7]\tvalidation-rmse:8.23573\n",
      "[8]\tvalidation-rmse:7.99501\n",
      "[9]\tvalidation-rmse:7.78775\n",
      "[10]\tvalidation-rmse:7.61110\n",
      "[11]\tvalidation-rmse:7.45933\n",
      "[12]\tvalidation-rmse:7.33090\n",
      "[13]\tvalidation-rmse:7.22033\n",
      "[14]\tvalidation-rmse:7.12747\n",
      "[15]\tvalidation-rmse:7.04858\n",
      "[16]\tvalidation-rmse:6.98116\n",
      "[17]\tvalidation-rmse:6.92249\n",
      "[18]\tvalidation-rmse:6.87272\n",
      "[19]\tvalidation-rmse:6.82975\n",
      "[20]\tvalidation-rmse:6.79302\n",
      "[21]\tvalidation-rmse:6.76016\n",
      "[22]\tvalidation-rmse:6.73249\n",
      "[23]\tvalidation-rmse:6.70755\n",
      "[24]\tvalidation-rmse:6.68618\n",
      "[25]\tvalidation-rmse:6.66658\n",
      "[26]\tvalidation-rmse:6.64923\n",
      "[27]\tvalidation-rmse:6.63447\n",
      "[28]\tvalidation-rmse:6.62169\n",
      "[29]\tvalidation-rmse:6.60994\n",
      "[30]\tvalidation-rmse:6.60004\n",
      "[31]\tvalidation-rmse:6.59057\n",
      "[32]\tvalidation-rmse:6.58291\n",
      "[33]\tvalidation-rmse:6.57608\n",
      "[34]\tvalidation-rmse:6.56960\n",
      "[35]\tvalidation-rmse:6.56283\n",
      "[36]\tvalidation-rmse:6.55808\n",
      "[37]\tvalidation-rmse:6.55327\n",
      "[38]\tvalidation-rmse:6.54889\n",
      "[39]\tvalidation-rmse:6.54476\n",
      "[40]\tvalidation-rmse:6.54119\n",
      "[41]\tvalidation-rmse:6.53775\n",
      "[42]\tvalidation-rmse:6.53534\n",
      "[43]\tvalidation-rmse:6.53246\n",
      "[44]\tvalidation-rmse:6.53067\n",
      "[45]\tvalidation-rmse:6.52900\n",
      "[46]\tvalidation-rmse:6.52751\n",
      "[47]\tvalidation-rmse:6.52601\n",
      "[48]\tvalidation-rmse:6.52533\n",
      "[49]\tvalidation-rmse:6.52419\n"
     ]
    },
    {
     "name": "stderr",
     "output_type": "stream",
     "text": [
      "2025/07/26 06:38:54 WARNING mlflow.models.model: `artifact_path` is deprecated. Please use `name` instead.\n",
      "/Users/mac/Projects/MLops_pipeline/mlflow-311venv/lib/python3.11/site-packages/mlflow/xgboost/__init__.py:168: UserWarning: [06:38:54] WARNING: /Users/runner/work/xgboost/xgboost/src/c_api/c_api.cc:1427: Saving model in the UBJSON format as default.  You can use file extension: `json`, `ubj` or `deprecated` to choose between formats.\n",
      "  xgb_model.save_model(model_data_path)\n",
      "\u001b[31m2025/07/26 06:38:59 WARNING mlflow.models.model: Model logged without a signature and input example. Please set `input_example` parameter when logging the model to auto infer the model signature.\u001b[0m\n"
     ]
    },
    {
     "name": "stdout",
     "output_type": "stream",
     "text": [
      "🏃 View run aged-frog-920 at: http://127.0.0.1:5003/#/experiments/1/runs/6625d3f1330a4418a6a73f9e17a4feeb\n",
      "🧪 View experiment at: http://127.0.0.1:5003/#/experiments/1\n"
     ]
    }
   ],
   "source": [
    "with mlflow.start_run():\n",
    "    train = xgb.DMatrix(X_train, label=y_train)\n",
    "    val = xgb.DMatrix(X_val, label=y_val)\n",
    "\n",
    "    mlflow.set_tag(\"engineer\", \"richkinwe\")\n",
    "    mlflow.log_param(\"train_data_path\", \"green_tripdata/green_tripdata_2021-01.parquet\")\n",
    "    mlflow.log_param(\"val_data_path\", \"green_tripdata/green_tripdata_2021-02.parquet\")\n",
    "    mlflow.set_tag(\"model\", \"xgboost\")\n",
    "    \n",
    "    best_params = {\n",
    "    'max_depth': 30,\n",
    "    'learning_rate': 0.0959,\n",
    "    'reg_alpha': 0.0181,\n",
    "    'reg_lambda': 0.0117,\n",
    "    'min_child_weight': 1.0606,\n",
    "    'objective': 'reg:linear',\n",
    "    'seed': 42\n",
    " }\n",
    "    \n",
    "    mlflow.log_params(best_params)\n",
    "\n",
    "    booster = xgb.train(\n",
    "            params=best_params,\n",
    "            dtrain=train,\n",
    "            num_boost_round=50,\n",
    "            evals=[(val, 'validation')],\n",
    "            early_stopping_rounds=50\n",
    "        )\n",
    "    \n",
    "    y_pred = booster.predict(val)\n",
    "    rmse = sqrt(mean_squared_error(y_val, y_pred))\n",
    "    mlflow.log_metric(\"rmse\", rmse)\n",
    "\n",
    "    with open('models.preprocessor.b', 'wb') as f_out:\n",
    "        pickle.dump(dv, f_out)\n",
    "\n",
    "    mlflow.log_artifact('models.preprocessor.b', artifact_path='preprocessor')\n",
    "\n",
    "    mlflow.xgboost.log_model(booster, artifact_path='models_xgboost_mlflow')"
   ]
  }
 ],
 "metadata": {
  "kernelspec": {
   "display_name": "mlflow-311venv",
   "language": "python",
   "name": "python3"
  },
  "language_info": {
   "codemirror_mode": {
    "name": "ipython",
    "version": 3
   },
   "file_extension": ".py",
   "mimetype": "text/x-python",
   "name": "python",
   "nbconvert_exporter": "python",
   "pygments_lexer": "ipython3",
   "version": "3.11.0"
  }
 },
 "nbformat": 4,
 "nbformat_minor": 5
}
